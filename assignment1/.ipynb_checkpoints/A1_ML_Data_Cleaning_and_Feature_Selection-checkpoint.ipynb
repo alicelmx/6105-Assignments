{
 "cells": [
  {
   "cell_type": "markdown",
   "id": "2a6efac4",
   "metadata": {},
   "source": [
    "## ML Data Cleaning and Feature Selection\n",
    "\n",
    "In this assignment, you will use a dataset for predictive learning and check the quality of the data and determine which features are important.\n",
    "\n",
    "#### Answer the following questions:\n",
    "\n",
    "* What are the data types? (Only numeric and categorical)\n",
    "\n",
    "* Are there missing values?\n",
    "\n",
    "* What are the likely distributions of the numeric variables?\n",
    "\n",
    "* Which independent variables are useful to predict a target (dependent variable)? (Use at least three methods)\n",
    "\n",
    "* Which independent variables have missing data? How much? \n",
    "\n",
    "* Do the training and test sets have the same data?\n",
    "\n",
    "* In the predictor variables independent of all the other predictor variables?\n",
    "\n",
    "* Which predictor variables are the most important?\n",
    "\n",
    "* Do the ranges of the predictor variables make sense?\n",
    "\n",
    "* What are the distributions of the predictor variables?   \n",
    "\n",
    "* Remove outliers and keep outliers (does if have an effect of the final predictive model)?\n",
    "\n",
    "* Remove 1%, 5%, and 10% of your data randomly and impute the values back using at least 3 imputation methods. How well did the methods recover the missing values?  That is remove some data, check the % error on residuals for numeric data and check for bias and variance of the error.\n",
    "\n",
    "For categorical data, calculate the accuracy and a confusion matrix.\n",
    "\n",
    "\n",
    "#### Scoring Rubric\n",
    "\n",
    "1. Are my answers supported with data? (20 Points)\n",
    "\n",
    "Tables, graphs, and charts must support your evaluation/answers.\n",
    "\n",
    "2. It MUST run in Google Collab. You will also save the Google Collab notebook as a .ipynb notebook and upload that to Canvas . (5 Points)\n",
    "\n",
    " \n",
    "\n",
    "3. ✅ Public dataset (5 Points)\n",
    "\n",
    "Pick a public dataset that can be used for Regression or Classification. You MUST get approval for your dataset from the TAs.\n",
    "\n",
    " \n",
    "\n",
    "4. What code is yours and what have you adapted? (5 Points)\n",
    "\n",
    "You must explain what code you wrote and what you have done that is different. Failure to cite ANY code will result in a zero for this section.\n",
    "\n",
    " \n",
    "\n",
    "5. Did I explain my code clearly? (15 Points) Your code review score will be scaled to a range of 0 to 10 and be used for this score.\n",
    "\n",
    " \n",
    "\n",
    "6. Did I explain my licensing clearly? (5 Points) Failure to cite a clear license will result in a zero for this section.\n",
    "\n",
    " \n",
    "\n",
    "7. Answers to listed questions (45 Points)\n",
    "\n",
    "* Which independent variables are useful to predict a target (dependent variable)?\n",
    "\n",
    "* Which independent variable have missing data? How much? \n",
    "\n",
    "* Do the training and test sets have the same data?\n",
    "\n",
    "* In the predictor variables independent of all the other predictor variables?\n",
    "\n",
    "* Which predictor variables are the most important?\n",
    "\n",
    "* Do the ranges of the predictor variables make sense?\n",
    "\n",
    "* What are the distributions of the predictor variables?   \n"
   ]
  },
  {
   "cell_type": "markdown",
   "id": "1004c7ae",
   "metadata": {},
   "source": [
    "## Abstract\n",
    "Dataset Link: https://www.kaggle.com/datasets/rajeshrampure/black-friday-sale\n",
    "\n",
    "A retail company “ABC Private Limited” wants to understand the customer purchase behavior (specifically, purchase amount) against various products of different categories. They have shared purchase summaries of various customers for selected high-volume products from last month.\n",
    "The data set also contains customer demographics (age, gender, marital status, city type, stayincurrentcity), product details (productid and product category), and Total purchase amount from last month.\n",
    "\n",
    "Now, they want to build a model to predict the purchase amount of customers against various products which will help them to create a personalized offer for customers against different products."
   ]
  },
  {
   "cell_type": "code",
   "execution_count": 4,
   "id": "d143408f",
   "metadata": {},
   "outputs": [
    {
     "name": "stdout",
     "output_type": "stream",
     "text": [
      "Requirement already satisfied: eli5 in /usr/local/lib/python3.10/site-packages (0.13.0)\n",
      "Requirement already satisfied: jinja2>=3.0.0 in /usr/local/lib/python3.10/site-packages (from eli5) (3.1.2)\n",
      "Requirement already satisfied: scipy in /usr/local/lib/python3.10/site-packages (from eli5) (1.10.0)\n",
      "Requirement already satisfied: tabulate>=0.7.7 in /usr/local/lib/python3.10/site-packages (from eli5) (0.9.0)\n",
      "Requirement already satisfied: numpy>=1.9.0 in /usr/local/lib/python3.10/site-packages (from eli5) (1.24.1)\n",
      "Requirement already satisfied: scikit-learn>=0.20 in /usr/local/lib/python3.10/site-packages (from eli5) (1.2.1)\n",
      "Requirement already satisfied: six in /usr/local/lib/python3.10/site-packages (from eli5) (1.16.0)\n",
      "Requirement already satisfied: attrs>17.1.0 in /usr/local/lib/python3.10/site-packages (from eli5) (22.2.0)\n",
      "Requirement already satisfied: graphviz in /usr/local/lib/python3.10/site-packages (from eli5) (0.20.1)\n",
      "Requirement already satisfied: MarkupSafe>=2.0 in /usr/local/lib/python3.10/site-packages (from jinja2>=3.0.0->eli5) (2.1.2)\n",
      "Requirement already satisfied: threadpoolctl>=2.0.0 in /usr/local/lib/python3.10/site-packages (from scikit-learn>=0.20->eli5) (3.1.0)\n",
      "Requirement already satisfied: joblib>=1.1.1 in /usr/local/lib/python3.10/site-packages (from scikit-learn>=0.20->eli5) (1.2.0)\n"
     ]
    }
   ],
   "source": [
    "!pip3 install eli5"
   ]
  },
  {
   "cell_type": "code",
   "execution_count": 11,
   "id": "8e6fe59e",
   "metadata": {},
   "outputs": [
    {
     "name": "stdout",
     "output_type": "stream",
     "text": [
      "Requirement already satisfied: pandas in /usr/local/lib/python3.10/site-packages (1.5.3)\r\n",
      "Requirement already satisfied: numpy>=1.21.0 in /usr/local/lib/python3.10/site-packages (from pandas) (1.24.1)\r\n",
      "Requirement already satisfied: python-dateutil>=2.8.1 in /usr/local/lib/python3.10/site-packages (from pandas) (2.8.2)\r\n",
      "Requirement already satisfied: pytz>=2020.1 in /usr/local/lib/python3.10/site-packages (from pandas) (2022.7.1)\r\n",
      "Requirement already satisfied: six>=1.5 in /usr/local/lib/python3.10/site-packages (from python-dateutil>=2.8.1->pandas) (1.16.0)\r\n"
     ]
    }
   ],
   "source": [
    "!pip3 install pandas\n",
    "!pip3 install seaborn\n",
    "!pip3 install matplotlib\n",
    "# !pip3 install pandas"
   ]
  },
  {
   "cell_type": "code",
   "execution_count": null,
   "id": "672a2a79",
   "metadata": {},
   "outputs": [],
   "source": []
  },
  {
   "cell_type": "code",
   "execution_count": 3,
   "id": "9619b527",
   "metadata": {},
   "outputs": [
    {
     "ename": "ModuleNotFoundError",
     "evalue": "No module named 'pandas'",
     "output_type": "error",
     "traceback": [
      "\u001b[0;31m---------------------------------------------------------------------------\u001b[0m",
      "\u001b[0;31mModuleNotFoundError\u001b[0m                       Traceback (most recent call last)",
      "Cell \u001b[0;32mIn[3], line 2\u001b[0m\n\u001b[1;32m      1\u001b[0m \u001b[38;5;28;01mimport\u001b[39;00m \u001b[38;5;21;01mnumpy\u001b[39;00m \u001b[38;5;28;01mas\u001b[39;00m \u001b[38;5;21;01mnp\u001b[39;00m\n\u001b[0;32m----> 2\u001b[0m \u001b[38;5;28;01mimport\u001b[39;00m \u001b[38;5;21;01mpandas\u001b[39;00m \u001b[38;5;28;01mas\u001b[39;00m \u001b[38;5;21;01mpd\u001b[39;00m\n\u001b[1;32m      3\u001b[0m \u001b[38;5;28;01mimport\u001b[39;00m \u001b[38;5;21;01mseaborn\u001b[39;00m \u001b[38;5;28;01mas\u001b[39;00m \u001b[38;5;21;01msns\u001b[39;00m\n\u001b[1;32m      4\u001b[0m \u001b[38;5;28;01mimport\u001b[39;00m \u001b[38;5;21;01mmatplotlib\u001b[39;00m\u001b[38;5;21;01m.\u001b[39;00m\u001b[38;5;21;01mpylab\u001b[39;00m \u001b[38;5;28;01mas\u001b[39;00m \u001b[38;5;21;01mplt\u001b[39;00m\n",
      "\u001b[0;31mModuleNotFoundError\u001b[0m: No module named 'pandas'"
     ]
    }
   ],
   "source": [
    "import numpy as np\n",
    "import pandas as pd\n",
    "import seaborn as sns\n",
    "import matplotlib.pylab as plt\n",
    "from matplotlib import pyplot"
   ]
  },
  {
   "cell_type": "code",
   "execution_count": null,
   "id": "dc33ac6d",
   "metadata": {},
   "outputs": [],
   "source": [
    "data = pd.read_csv(\"https://raw.githubusercontent.com/aiskunks/YouTube/main/CSV/abalone.csv\")"
   ]
  },
  {
   "cell_type": "code",
   "execution_count": null,
   "id": "58ca25f4",
   "metadata": {},
   "outputs": [],
   "source": []
  }
 ],
 "metadata": {
  "kernelspec": {
   "display_name": "Python 3 (ipykernel)",
   "language": "python",
   "name": "python3"
  },
  "language_info": {
   "codemirror_mode": {
    "name": "ipython",
    "version": 3
   },
   "file_extension": ".py",
   "mimetype": "text/x-python",
   "name": "python",
   "nbconvert_exporter": "python",
   "pygments_lexer": "ipython3",
   "version": "3.10.9"
  }
 },
 "nbformat": 4,
 "nbformat_minor": 5
}
