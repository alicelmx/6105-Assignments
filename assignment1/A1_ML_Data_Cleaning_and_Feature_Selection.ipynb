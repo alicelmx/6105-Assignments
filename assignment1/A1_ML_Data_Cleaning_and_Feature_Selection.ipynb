{
 "cells": [
  {
   "cell_type": "markdown",
   "id": "2a6efac4",
   "metadata": {},
   "source": [
    "## ML Data Cleaning and Feature Selection\n",
    "\n",
    "In this assignment, you will use a dataset for predictive learning and check the quality of the data and determine which features are important.\n",
    "\n",
    "#### Answer the following questions:\n",
    "\n",
    "* What are the data types? (Only numeric and categorical)\n",
    "\n",
    "* Are there missing values?\n",
    "\n",
    "* What are the likely distributions of the numeric variables?\n",
    "\n",
    "* Which independent variables are useful to predict a target (dependent variable)? (Use at least three methods)\n",
    "\n",
    "* Which independent variables have missing data? How much? \n",
    "\n",
    "* Do the training and test sets have the same data?\n",
    "\n",
    "* In the predictor variables independent of all the other predictor variables?\n",
    "\n",
    "* Which predictor variables are the most important?\n",
    "\n",
    "* Do the ranges of the predictor variables make sense?\n",
    "\n",
    "* What are the distributions of the predictor variables?   \n",
    "\n",
    "* Remove outliers and keep outliers (does if have an effect of the final predictive model)?\n",
    "\n",
    "* Remove 1%, 5%, and 10% of your data randomly and impute the values back using at least 3 imputation methods. How well did the methods recover the missing values?  That is remove some data, check the % error on residuals for numeric data and check for bias and variance of the error.\n",
    "\n",
    "For categorical data, calculate the accuracy and a confusion matrix.\n",
    "\n",
    "\n",
    "#### Scoring Rubric\n",
    "\n",
    "1. Are my answers supported with data? (20 Points)\n",
    "\n",
    "Tables, graphs, and charts must support your evaluation/answers.\n",
    "\n",
    "2. It MUST run in Google Collab. You will also save the Google Collab notebook as a .ipynb notebook and upload that to Canvas . (5 Points)\n",
    "\n",
    " \n",
    "\n",
    "3. ✅ Public dataset (5 Points)\n",
    "\n",
    "Pick a public dataset that can be used for Regression or Classification. You MUST get approval for your dataset from the TAs.\n",
    "\n",
    " \n",
    "\n",
    "4. What code is yours and what have you adapted? (5 Points)\n",
    "\n",
    "You must explain what code you wrote and what you have done that is different. Failure to cite ANY code will result in a zero for this section.\n",
    "\n",
    " \n",
    "\n",
    "5. Did I explain my code clearly? (15 Points) Your code review score will be scaled to a range of 0 to 10 and be used for this score.\n",
    "\n",
    " \n",
    "\n",
    "6. Did I explain my licensing clearly? (5 Points) Failure to cite a clear license will result in a zero for this section.\n",
    "\n",
    " \n",
    "\n",
    "7. Answers to listed questions (45 Points)\n",
    "\n",
    "* Which independent variables are useful to predict a target (dependent variable)?\n",
    "\n",
    "* Which independent variable have missing data? How much? \n",
    "\n",
    "* Do the training and test sets have the same data?\n",
    "\n",
    "* In the predictor variables independent of all the other predictor variables?\n",
    "\n",
    "* Which predictor variables are the most important?\n",
    "\n",
    "* Do the ranges of the predictor variables make sense?\n",
    "\n",
    "* What are the distributions of the predictor variables?   \n"
   ]
  },
  {
   "cell_type": "markdown",
   "id": "1004c7ae",
   "metadata": {},
   "source": [
    "## Abstract\n",
    "Dataset Link: https://www.kaggle.com/datasets/rajeshrampure/black-friday-sale\n",
    "\n",
    "A retail company “ABC Private Limited” wants to understand the customer purchase behavior (specifically, purchase amount) against various products of different categories. They have shared purchase summaries of various customers for selected high-volume products from last month.\n",
    "The data set also contains customer demographics (age, gender, marital status, city type, stayincurrentcity), product details (productid and product category), and Total purchase amount from last month.\n",
    "\n",
    "Now, they want to build a model to predict the purchase amount of customers against various products which will help them to create a personalized offer for customers against different products."
   ]
  },
  {
   "cell_type": "code",
   "execution_count": 4,
   "id": "d143408f",
   "metadata": {},
   "outputs": [
    {
     "name": "stdout",
     "output_type": "stream",
     "text": [
      "Requirement already satisfied: eli5 in /usr/local/lib/python3.10/site-packages (0.13.0)\n",
      "Requirement already satisfied: jinja2>=3.0.0 in /usr/local/lib/python3.10/site-packages (from eli5) (3.1.2)\n",
      "Requirement already satisfied: scipy in /usr/local/lib/python3.10/site-packages (from eli5) (1.10.0)\n",
      "Requirement already satisfied: tabulate>=0.7.7 in /usr/local/lib/python3.10/site-packages (from eli5) (0.9.0)\n",
      "Requirement already satisfied: numpy>=1.9.0 in /usr/local/lib/python3.10/site-packages (from eli5) (1.24.1)\n",
      "Requirement already satisfied: scikit-learn>=0.20 in /usr/local/lib/python3.10/site-packages (from eli5) (1.2.1)\n",
      "Requirement already satisfied: six in /usr/local/lib/python3.10/site-packages (from eli5) (1.16.0)\n",
      "Requirement already satisfied: attrs>17.1.0 in /usr/local/lib/python3.10/site-packages (from eli5) (22.2.0)\n",
      "Requirement already satisfied: graphviz in /usr/local/lib/python3.10/site-packages (from eli5) (0.20.1)\n",
      "Requirement already satisfied: MarkupSafe>=2.0 in /usr/local/lib/python3.10/site-packages (from jinja2>=3.0.0->eli5) (2.1.2)\n",
      "Requirement already satisfied: threadpoolctl>=2.0.0 in /usr/local/lib/python3.10/site-packages (from scikit-learn>=0.20->eli5) (3.1.0)\n",
      "Requirement already satisfied: joblib>=1.1.1 in /usr/local/lib/python3.10/site-packages (from scikit-learn>=0.20->eli5) (1.2.0)\n"
     ]
    }
   ],
   "source": [
    "!pip3 install eli5"
   ]
  },
  {
   "cell_type": "code",
   "execution_count": 12,
   "id": "9d64abbc",
   "metadata": {},
   "outputs": [
    {
     "name": "stdout",
     "output_type": "stream",
     "text": [
      "Requirement already satisfied: pandas in /usr/local/lib/python3.10/site-packages (1.5.3)\n",
      "Requirement already satisfied: numpy>=1.21.0 in /usr/local/lib/python3.10/site-packages (from pandas) (1.24.1)\n",
      "Requirement already satisfied: python-dateutil>=2.8.1 in /usr/local/lib/python3.10/site-packages (from pandas) (2.8.2)\n",
      "Requirement already satisfied: pytz>=2020.1 in /usr/local/lib/python3.10/site-packages (from pandas) (2022.7.1)\n",
      "Requirement already satisfied: six>=1.5 in /usr/local/lib/python3.10/site-packages (from python-dateutil>=2.8.1->pandas) (1.16.0)\n",
      "Collecting seaborn\n",
      "  Downloading seaborn-0.12.2-py3-none-any.whl (293 kB)\n",
      "\u001b[2K     \u001b[38;2;114;156;31m━━━━━━━━━━━━━━━━━━━━━━━━━━━━━━━━━━━━━\u001b[0m \u001b[32m293.3/293.3 kB\u001b[0m \u001b[31m292.0 kB/s\u001b[0m eta \u001b[36m0:00:00\u001b[0m1m284.4 kB/s\u001b[0m eta \u001b[36m0:00:01\u001b[0m\n",
      "\u001b[?25hCollecting matplotlib!=3.6.1,>=3.1\n",
      "  Downloading matplotlib-3.6.3-cp310-cp310-macosx_10_12_x86_64.whl (7.3 MB)\n",
      "\u001b[2K     \u001b[38;2;114;156;31m━━━━━━━━━━━━━━━━━━━━━━━━━━━━━━━━━━━━━━━━\u001b[0m \u001b[32m7.3/7.3 MB\u001b[0m \u001b[31m611.3 kB/s\u001b[0m eta \u001b[36m0:00:00\u001b[0mm eta \u001b[36m0:00:01\u001b[0m[36m0:00:01\u001b[0m\n",
      "\u001b[?25hRequirement already satisfied: numpy!=1.24.0,>=1.17 in /usr/local/lib/python3.10/site-packages (from seaborn) (1.24.1)\n",
      "Requirement already satisfied: pandas>=0.25 in /usr/local/lib/python3.10/site-packages (from seaborn) (1.5.3)\n",
      "Collecting pillow>=6.2.0\n",
      "  Downloading Pillow-9.4.0-2-cp310-cp310-macosx_10_10_x86_64.whl (3.3 MB)\n",
      "\u001b[2K     \u001b[38;2;114;156;31m━━━━━━━━━━━━━━━━━━━━━━━━━━━━━━━━━━━━━━━━\u001b[0m \u001b[32m3.3/3.3 MB\u001b[0m \u001b[31m252.4 kB/s\u001b[0m eta \u001b[36m0:00:00\u001b[0mm eta \u001b[36m0:00:01\u001b[0m[36m0:00:01\u001b[0m\n",
      "\u001b[?25hCollecting pyparsing>=2.2.1\n",
      "  Downloading pyparsing-3.0.9-py3-none-any.whl (98 kB)\n",
      "\u001b[2K     \u001b[38;2;114;156;31m━━━━━━━━━━━━━━━━━━━━━━━━━━━━━━━━━━━━━━━\u001b[0m \u001b[32m98.3/98.3 kB\u001b[0m \u001b[31m521.5 kB/s\u001b[0m eta \u001b[36m0:00:00\u001b[0m1m520.9 kB/s\u001b[0m eta \u001b[36m0:00:01\u001b[0m\n",
      "\u001b[?25hRequirement already satisfied: python-dateutil>=2.7 in /usr/local/lib/python3.10/site-packages (from matplotlib!=3.6.1,>=3.1->seaborn) (2.8.2)\n",
      "Collecting kiwisolver>=1.0.1\n",
      "  Downloading kiwisolver-1.4.4-cp310-cp310-macosx_10_9_x86_64.whl (65 kB)\n",
      "\u001b[2K     \u001b[38;2;114;156;31m━━━━━━━━━━━━━━━━━━━━━━━━━━━━━━━━━━━━━━━\u001b[0m \u001b[32m65.5/65.5 kB\u001b[0m \u001b[31m332.7 kB/s\u001b[0m eta \u001b[36m0:00:00\u001b[0m1m361.3 kB/s\u001b[0m eta \u001b[36m0:00:01\u001b[0m\n",
      "\u001b[?25hRequirement already satisfied: packaging>=20.0 in /usr/local/lib/python3.10/site-packages (from matplotlib!=3.6.1,>=3.1->seaborn) (23.0)\n",
      "Collecting cycler>=0.10\n",
      "  Downloading cycler-0.11.0-py3-none-any.whl (6.4 kB)\n",
      "Collecting fonttools>=4.22.0\n",
      "  Downloading fonttools-4.38.0-py3-none-any.whl (965 kB)\n",
      "\u001b[2K     \u001b[38;2;114;156;31m━━━━━━━━━━━━━━━━━━━━━━━━━━━━━━━━━━━━━\u001b[0m \u001b[32m965.4/965.4 kB\u001b[0m \u001b[31m132.3 kB/s\u001b[0m eta \u001b[36m0:00:00\u001b[0mm eta \u001b[36m0:00:01\u001b[0m0:01\u001b[0m:01\u001b[0m\n",
      "\u001b[?25hCollecting contourpy>=1.0.1\n",
      "  Downloading contourpy-1.0.7-cp310-cp310-macosx_10_9_x86_64.whl (244 kB)\n",
      "\u001b[2K     \u001b[38;2;114;156;31m━━━━━━━━━━━━━━━━━━━━━━━━━━━━━━━━━━━━━\u001b[0m \u001b[32m244.2/244.2 kB\u001b[0m \u001b[31m120.5 kB/s\u001b[0m eta \u001b[36m0:00:00\u001b[0m kB/s\u001b[0m eta \u001b[36m0:00:01\u001b[0m:01\u001b[0m\n",
      "\u001b[?25hRequirement already satisfied: pytz>=2020.1 in /usr/local/lib/python3.10/site-packages (from pandas>=0.25->seaborn) (2022.7.1)\n",
      "Requirement already satisfied: six>=1.5 in /usr/local/lib/python3.10/site-packages (from python-dateutil>=2.7->matplotlib!=3.6.1,>=3.1->seaborn) (1.16.0)\n",
      "Installing collected packages: pyparsing, pillow, kiwisolver, fonttools, cycler, contourpy, matplotlib, seaborn\n",
      "Successfully installed contourpy-1.0.7 cycler-0.11.0 fonttools-4.38.0 kiwisolver-1.4.4 matplotlib-3.6.3 pillow-9.4.0 pyparsing-3.0.9 seaborn-0.12.2\n",
      "Requirement already satisfied: matplotlib in /usr/local/lib/python3.10/site-packages (3.6.3)\n",
      "Requirement already satisfied: pyparsing>=2.2.1 in /usr/local/lib/python3.10/site-packages (from matplotlib) (3.0.9)\n",
      "Requirement already satisfied: contourpy>=1.0.1 in /usr/local/lib/python3.10/site-packages (from matplotlib) (1.0.7)\n",
      "Requirement already satisfied: pillow>=6.2.0 in /usr/local/lib/python3.10/site-packages (from matplotlib) (9.4.0)\n",
      "Requirement already satisfied: fonttools>=4.22.0 in /usr/local/lib/python3.10/site-packages (from matplotlib) (4.38.0)\n",
      "Requirement already satisfied: cycler>=0.10 in /usr/local/lib/python3.10/site-packages (from matplotlib) (0.11.0)\n",
      "Requirement already satisfied: kiwisolver>=1.0.1 in /usr/local/lib/python3.10/site-packages (from matplotlib) (1.4.4)\n",
      "Requirement already satisfied: python-dateutil>=2.7 in /usr/local/lib/python3.10/site-packages (from matplotlib) (2.8.2)\n",
      "Requirement already satisfied: numpy>=1.19 in /usr/local/lib/python3.10/site-packages (from matplotlib) (1.24.1)\n",
      "Requirement already satisfied: packaging>=20.0 in /usr/local/lib/python3.10/site-packages (from matplotlib) (23.0)\n",
      "Requirement already satisfied: six>=1.5 in /usr/local/lib/python3.10/site-packages (from python-dateutil>=2.7->matplotlib) (1.16.0)\n"
     ]
    }
   ],
   "source": [
    "!pip3 install pandas\n",
    "!pip3 install seaborn\n",
    "!pip3 install matplotlib\n",
    "# !pip3 install pandas"
   ]
  },
  {
   "cell_type": "code",
   "execution_count": 13,
   "id": "d8d3dcd1",
   "metadata": {},
   "outputs": [
    {
     "name": "stderr",
     "output_type": "stream",
     "text": [
      "Fontconfig warning: ignoring UTF-8: not a valid region tag\n"
     ]
    }
   ],
   "source": [
    "import numpy as np\n",
    "import pandas as pd\n",
    "import seaborn as sns\n",
    "import matplotlib.pylab as plt\n",
    "from matplotlib import pyplot"
   ]
  },
  {
   "cell_type": "code",
   "execution_count": null,
   "id": "e7af9b7a",
   "metadata": {},
   "outputs": [],
   "source": [
    "data = pd.read_csv(\"https://raw.githubusercontent.com/aiskunks/YouTube/main/CSV/abalone.csv\")"
   ]
  },
  {
   "cell_type": "code",
   "execution_count": null,
   "id": "58ca25f4",
   "metadata": {},
   "outputs": [],
   "source": []
  }
 ],
 "metadata": {
  "kernelspec": {
   "display_name": "Python 3 (ipykernel)",
   "language": "python",
   "name": "python3"
  },
  "language_info": {
   "codemirror_mode": {
    "name": "ipython",
    "version": 3
   },
   "file_extension": ".py",
   "mimetype": "text/x-python",
   "name": "python",
   "nbconvert_exporter": "python",
   "pygments_lexer": "ipython3",
   "version": "3.10.9"
  }
 },
 "nbformat": 4,
 "nbformat_minor": 5
}
